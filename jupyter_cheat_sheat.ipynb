{
 "cells": [
  {
   "cell_type": "markdown",
   "metadata": {},
   "source": [
    "#### List of Resources\n",
    "- [Start from here](https://medium.com/ibm-data-science-experience/markdown-for-jupyter-notebooks-cheatsheet-386c05aeebed). This link contains useful commands (Links, brakes, commects etc)\n",
    "- [Gallery of interesting Jupyter Notebook](https://github.com/jupyter/jupyter/wiki/A-gallery-of-interesting-Jupyter-Notebooks). This source contains many notebook on different subject including DL"
   ]
  },
  {
   "cell_type": "markdown",
   "metadata": {},
   "source": [
    "##### Disaply an Image"
   ]
  },
  {
   "cell_type": "raw",
   "metadata": {},
   "source": [
    "1. In markdown mode:\n",
    "  ![Title](figs/<image_name.png)\n",
    "\n",
    "2. In markdown mode:\n",
    "   <img src=\"figs/persistent_disk_pricing.png\" alt=\"drawing\" width=\"400px\"/>\n",
    "   \n",
    "3. In code mode:\n",
    "   from IPython.display import Image\n",
    "   Image(filename=\"figs/persistent_disk_pricing.png\", width=400, height=400)\n",
    "   \n"
   ]
  },
  {
   "cell_type": "code",
   "execution_count": null,
   "metadata": {},
   "outputs": [],
   "source": [
    "\n"
   ]
  }
 ],
 "metadata": {
  "kernelspec": {
   "display_name": "Python 3",
   "language": "python",
   "name": "python3"
  },
  "language_info": {
   "codemirror_mode": {
    "name": "ipython",
    "version": 3
   },
   "file_extension": ".py",
   "mimetype": "text/x-python",
   "name": "python",
   "nbconvert_exporter": "python",
   "pygments_lexer": "ipython3",
   "version": "3.5.2"
  }
 },
 "nbformat": 4,
 "nbformat_minor": 2
}
