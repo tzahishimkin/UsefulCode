{
 "cells": [
  {
   "cell_type": "markdown",
   "metadata": {
    "collapsed": true
   },
   "source": [
    "# Commands to set Googe Cloud instances, replicate instances. load data to instance and more"
   ]
  },
  {
   "cell_type": "markdown",
   "metadata": {},
   "source": [
    "### Connect to Cloud\n",
    "\n",
    "- Set an instance at VM instances\n",
    "- Create SSH: \n",
    "    - Run ssh-keygen and save with specific name(Example google_machine_key) \n",
    "        - Note that you can speficy user name as such: ssh-keygen -t rsa -f ~/.ssh/shimkin_cloud_key -C shimkin\n",
    "\n",
    "    - cat google_machine_key.pub  and paste it to SSH in Cloud (In Google Cloud ->VM instances ->Edit -> Show edit SSH -> paste to empty place \n",
    "\n",
    "    - h -i google_machine_key 35.237.77.116 -v \n",
    "\n",
    "    - To logto your previous session run:  \n",
    "        tmux a -t 0      (Install with sudo apt install tmux) \n",
    "\n",
    "Note: To login to specific user add its name:\n",
    "ssh -i google_machine_key  shimkin@35.196.175.183   -v\n",
    "\n",
    "Read more on ssh keys for cloud: https://cloud.google.com/compute/docs/instances/adding-removing-ssh-keys#createsshkeys"
   ]
  },
  {
   "cell_type": "markdown",
   "metadata": {},
   "source": [
    "### Create Snapshot of instance\n",
    "    - Go to computer Engine - >Snapshots and create a snapshot from the instance\n",
    "    - Interesting to know - Snapshots are extending from each other, meaning that snapshot2 saves only the changes from snapshot 1 if they are from the same instance \n",
    "    - When creating new instance you can set from snapshot.\n",
    "    - If you changed the size of the SSD memory you need ot mount the edition memory space\n",
    "            - \n"
   ]
  },
  {
   "cell_type": "markdown",
   "metadata": {},
   "source": [
    "## Load data to VM Instance\n",
    "\n",
    "Check out this link:\n",
    "https://cloud.google.com/compute/docs/instances/transfer-files#transfergcloud\n",
    "\n",
    "There are multiple ways to load data to VM. Some need access to cloud storage. methods:\n",
    "    - Using the scripts I created to access Dropbox and Google Drive acout - These scripts are Python scrpits that access a the accounts and download data\n",
    "    - Using google Storage:\n",
    "        - Go to Google Cloud Platform - >Storage. and Create a Bucket\n",
    "        - Upload a file to the Bucket\n",
    "            - Use the Upload files/folder buttons\n",
    "            - Using gsutils\n",
    "        - Download the file to you VM  using gsutils\n",
    "    - Using gcloud compute \n",
    "        - Essentially accessing the VM straight from you local machine and vise verse"
   ]
  },
  {
   "cell_type": "markdown",
   "metadata": {},
   "source": [
    "### gsutil\n",
    "\n",
    "Link:  https://cloud.google.com/storage/docs/gsutil/commands/cp\n",
    "\n",
    "This is a very useful tool for controlling the Cloud stuff. I haven't gotten into it enough and you should check he link for more functionalities.\n",
    "\n",
    "#### gsutil cp\n",
    "Copying or dowloading files from a machine (local computer or VM in cloud) storage cloud.\n",
    "Usages:\n",
    "\n",
    "Downloading a file\n",
    "- gsutil cp data_file gs://my-bucket  #Will copy data_file to the storage\n",
    "- gsutil cp gs://my-bucket/data_file data_file  #Will download data_file from the storage\n",
    "\n",
    "Downloading a directory:\n",
    "- gsutil -m cp -r dir gs://my-bucket"
   ]
  },
  {
   "cell_type": "markdown",
   "metadata": {},
   "source": [
    "### gcloud\n",
    "Methods to connect VM to local machine and generally conrtol the VM. Need to dive deeper into it\n",
    "Links:\n",
    "- Methods for transfer to transfer data \n",
    "https://cloud.google.com/compute/docs/instances/transfer-files#transfergcloud\n",
    "- scp command: \n",
    "https://cloud.google.com/sdk/gcloud/reference/compute/scp\n",
    "\n",
    "Usage example:\n",
    "- gcloud compute scp temp/my_transfer.txt  instance-6:~/temp --zone us-east1-d # Copy a file from computer to VM. This copies the file temp/my_transfer.txt to the VM instacne 'instance-6 at to name temp. Also the Zone need to be speficied (Which you can check out at the VM GUI\n",
    "- gcloud compute scp --recurse [INSTANCE_NAME]:[REMOTE_DIR] [LOCAL_DIR]  #To copy a directory\n",
    "    - gcloud compute scp --recurse example-instance:~/narnia ~/wardrobe \n",
    "    \n",
    "    \n",
    "Note:\n",
    "- Sometimes the cloud sets a different user and data is transfered to it. In this case you can basically goto the user you what to write or read from:\n",
    "    - gcloud compute scp  instance-6:~/../shimkin/my_file.txt my_file.txt --zone us-east1-d   #From Blink user I go back and fetch data out of shimkin user\n",
    "\n",
    "\n",
    "\n"
   ]
  },
  {
   "cell_type": "markdown",
   "metadata": {},
   "source": [
    "### File Browser\n",
    "Use will be able to open a file browers presention the VM instance\n",
    "Link, again at:    https://cloud.google.com/compute/docs/instances/transfer-files#transfergcloud\n",
    "\n",
    "Steps:\n",
    "- Obtain an ssh key (As you did before)\n",
    "- echo \"IdentityFile ~/.ssh/my-ssh-key\" >> ~/.ssh/config   #Add a line (with your key name) to ssh config\n",
    "#Open file browser and establish connection to instance via sftp:\n",
    "sftp://shimkin@35.196.175.183\n",
    "(I was unable to make it work for now)\n"
   ]
  },
  {
   "cell_type": "markdown",
   "metadata": {},
   "source": [
    "### scp command (Without gcloud)\n",
    "Very easy method:\n",
    "- scp -i ~/.ssh/my-ssh-key [LOCAL_FILE_PATH] [USERNAME]@[IP_ADDRESS]:~   #To upload\n",
    "- scp -i ~/.ssh/my-ssh-key [USERNAME]@[IP_ADDRESS]:[REMOTE_FILE_PATH] [LOCAL_FILE_PATH] #To download \n",
    "\n",
    "\n",
    "Example:\n",
    "scp -i  ~/.ssh/shimkin_cloud_key temp_file.txt shimkin@35.196.175.183:~\n",
    "\n",
    "Note: Not sure yet how to load a hole directory"
   ]
  },
  {
   "cell_type": "code",
   "execution_count": null,
   "metadata": {},
   "outputs": [],
   "source": []
  }
 ],
 "metadata": {
  "kernelspec": {
   "display_name": "Python 3",
   "language": "python",
   "name": "python3"
  },
  "language_info": {
   "codemirror_mode": {
    "name": "ipython",
    "version": 3
   },
   "file_extension": ".py",
   "mimetype": "text/x-python",
   "name": "python",
   "nbconvert_exporter": "python",
   "pygments_lexer": "ipython3",
   "version": "3.5.2"
  }
 },
 "nbformat": 4,
 "nbformat_minor": 1
}
