{
 "cells": [
  {
   "cell_type": "markdown",
   "metadata": {},
   "source": [
    "# History\n",
    "Commands to use search in history"
   ]
  },
  {
   "cell_type": "raw",
   "metadata": {},
   "source": [
    "# Use a hh search showing all previous history in interactive mode:\n",
    "if [[ $- =~ .*i.* ]]; then bind '\"\\C-r\": \"\\C-a hh -- \\C-j\"'; fi\n",
    "if [[ $- =~ .*i.* ]]; then bind '\"\\C-xk\": \"\\C-a hh -k \\C-j\"'; fi\n",
    "\n",
    "#Use arrow up and down to search pattern:\n",
    "bind '\"\\e[A\": history-search-backward' \n",
    "bind '\"\\e[B\": history-search-forward' \n",
    "bind '\"\\eOA\": history-search-backward' \n",
    "bind '\"\\eOB\": history-search-forward' \n",
    "\n"
   ]
  },
  {
   "cell_type": "markdown",
   "metadata": {},
   "source": [
    "# Define colors"
   ]
  },
  {
   "cell_type": "raw",
   "metadata": {},
   "source": [
    "alias grep='grep --color=auto'\n",
    "alias fgrep='fgrep --color=auto'\n",
    "alias egrep='egrep --color=auto'\n",
    "\n"
   ]
  },
  {
   "cell_type": "code",
   "execution_count": null,
   "metadata": {},
   "outputs": [],
   "source": []
  }
 ],
 "metadata": {
  "kernelspec": {
   "display_name": "Python 3",
   "language": "python",
   "name": "python3"
  },
  "language_info": {
   "codemirror_mode": {
    "name": "ipython",
    "version": 3
   },
   "file_extension": ".py",
   "mimetype": "text/x-python",
   "name": "python",
   "nbconvert_exporter": "python",
   "pygments_lexer": "ipython3",
   "version": "3.5.2"
  }
 },
 "nbformat": 4,
 "nbformat_minor": 2
}
