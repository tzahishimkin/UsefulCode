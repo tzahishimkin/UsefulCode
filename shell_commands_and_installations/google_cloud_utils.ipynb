{
 "cells": [
  {
   "cell_type": "markdown",
   "metadata": {
    "collapsed": true
   },
   "source": [
    "# Commands to set Googe Cloud instances, replicate instances. load data to instance and more"
   ]
  },
  {
   "cell_type": "markdown",
   "metadata": {},
   "source": [
    "### Connect to Cloud\n",
    "\n",
    "- Set an instance at VM instances\n",
    "- Create SSH: \n",
    "    - Run ssh-keygen and save with specific name(Example google_machine_key) \n",
    "        - Note that you can speficy user name as such: ssh-keygen -t rsa -f ~/.ssh/shimkin_cloud_key -C shimkin\n",
    "\n",
    "    - cat google_machine_key.pub  and paste it to SSH in Cloud (In Google Cloud ->VM instances ->Edit -> Show edit SSH -> paste to empty place \n",
    "\n",
    "    - h -i google_machine_key 35.237.77.116 -v \n",
    "\n",
    "    - To logto your previous session run:  \n",
    "        tmux a -t 0      (Install with sudo apt install tmux) \n",
    "\n",
    "Note: To login to specific user add its name:\n",
    "ssh -i google_machine_key  shimkin@35.196.175.183   -v\n",
    "\n",
    "Read more on ssh keys for cloud: https://cloud.google.com/compute/docs/instances/adding-removing-ssh-keys#createsshkeys"
   ]
  },
  {
   "cell_type": "markdown",
   "metadata": {},
   "source": [
    "### Create Snapshot of instance\n",
    "    - Go to computer Engine - >Snapshots and create a snapshot from the instance\n",
    "    - Interesting to know - Snapshots are extending from each other, meaning that snapshot2 saves only the changes from snapshot 1 if they are from the same instance \n",
    "    - When creating new instance you can set from snapshot.\n",
    "    - If you changed the size of the SSD memory you need ot mount the edition memory space\n",
    "            - \n"
   ]
  },
  {
   "cell_type": "markdown",
   "metadata": {},
   "source": [
    "## Load data to VM Instance\n",
    "\n",
    "Check out this link:\n",
    "https://cloud.google.com/compute/docs/instances/transfer-files#transfergcloud\n",
    "\n",
    "There are multiple ways to load data to VM. Some need access to cloud storage. methods:\n",
    "    - Using the scripts I created to access Dropbox and Google Drive acout - These scripts are Python scrpits that access a the accounts and download data\n",
    "    - Using google Storage:\n",
    "        - Go to Google Cloud Platform - >Storage. and Create a Bucket\n",
    "        - Upload a file to the Bucket\n",
    "            - Use the Upload files/folder buttons\n",
    "            - Using gsutils\n",
    "        - Download the file to you VM  using gsutils\n",
    "    - Using gcloud compute \n",
    "        - Essentially accessing the VM straight from you local machine and vise verse"
   ]
  },
  {
   "cell_type": "markdown",
   "metadata": {},
   "source": [
    "### gsutil\n",
    "\n",
    "Link:  https://cloud.google.com/storage/docs/gsutil/commands/cp\n",
    "\n",
    "This is a very useful tool for controlling the Cloud stuff. I haven't gotten into it enough and you should check he link for more functionalities.\n",
    "\n",
    "#### gsutil cp\n",
    "Copying or dowloading files from a machine (local computer or VM in cloud) storage cloud.\n",
    "Usages:\n",
    "\n",
    "Downloading a file\n",
    "- gsutil cp data_file gs://my-bucket  #Will copy data_file to the storage\n",
    "- gsutil cp gs://my-bucket/data_file data_file  #Will download data_file from the storage\n",
    "\n",
    "Downloading a directory:\n",
    "- gsutil -m cp -r dir gs://my-bucket"
   ]
  },
  {
   "cell_type": "markdown",
   "metadata": {},
   "source": [
    "### gcloud\n",
    "Methods to connect VM to local machine and generally conrtol the VM. Need to dive deeper into it\n",
    "Links:\n",
    "- Methods for transfer to transfer data \n",
    "https://cloud.google.com/compute/docs/instances/transfer-files#transfergcloud\n",
    "- scp command: \n",
    "https://cloud.google.com/sdk/gcloud/reference/compute/scp\n",
    "\n",
    "Usage example:\n",
    "- gcloud compute scp temp/my_transfer.txt  instance-6:~/temp --zone us-east1-d # Copy a file from computer to VM. This copies the file temp/my_transfer.txt to the VM instacne 'instance-6 at to name temp. Also the Zone need to be speficied (Which you can check out at the VM GUI\n",
    "- gcloud compute scp --recurse [INSTANCE_NAME]:[REMOTE_DIR] [LOCAL_DIR]  #To copy a directory\n",
    "    - gcloud compute scp --recurse example-instance:~/narnia ~/wardrobe \n",
    "    \n",
    "    \n",
    "Note:\n",
    "- Sometimes the cloud sets a different user and data is transfered to it. In this case you can basically goto the user you what to write or read from:\n",
    "    - gcloud compute scp  instance-6:~/../shimkin/my_file.txt my_file.txt --zone us-east1-d   #From Blink user I go back and fetch data out of shimkin user\n",
    "\n",
    "\n",
    "\n"
   ]
  },
  {
   "cell_type": "markdown",
   "metadata": {},
   "source": [
    "### File Browser\n",
    "Use will be able to open a file browers presention the VM instance\n",
    "Link, again at:    https://cloud.google.com/compute/docs/instances/transfer-files#transfergcloud\n",
    "\n",
    "Steps:\n",
    "- Obtain an ssh key (As you did before)\n",
    "- echo \"IdentityFile ~/.ssh/my-ssh-key\" >> ~/.ssh/config   #Add a line (with your key name) to ssh config\n",
    "#Open file browser and establish connection to instance via sftp:\n",
    "sftp://shimkin@35.196.175.183\n",
    "(I was unable to make it work for now)\n"
   ]
  },
  {
   "cell_type": "markdown",
   "metadata": {},
   "source": [
    "### scp command (Without gcloud)\n",
    "Very easy method:\n",
    "- scp -i ~/.ssh/my-ssh-key [LOCAL_FILE_PATH] [USERNAME]@[IP_ADDRESS]:~   #To upload\n",
    "- scp -i ~/.ssh/my-ssh-key [USERNAME]@[IP_ADDRESS]:[REMOTE_FILE_PATH] [LOCAL_FILE_PATH] #To download \n",
    "\n",
    "\n",
    "Example:\n",
    "scp -i  ~/.ssh/shimkin_cloud_key temp_file.txt shimkin@35.196.175.183:~\n",
    "\n",
    "Note: Not sure yet how to load a hole directory"
   ]
  },
  {
   "cell_type": "markdown",
   "metadata": {},
   "source": [
    "# Storage"
   ]
  },
  {
   "cell_type": "markdown",
   "metadata": {},
   "source": [
    "[Here](https://cloud.google.com/persistent-disk/) you can find aditional information on persistent disk. Including pricing:\n",
    "<img src=\"figs/persistent_disk_pricing.png\" alt=\"drawing\" width=\"400px\"/>"
   ]
  },
  {
   "cell_type": "markdown",
   "metadata": {},
   "source": [
    "###  Adding or Resizing Persistent Disks \n",
    "This is essential when using cloud service. By adding and removing disks you can:\n",
    "1. Resize a disk on VM that you are currently using when you run out of space, thus not requiring to start with a large disk\n",
    "2. Resize a Snapshop or image of a disk when you would like to have another large intance\n",
    "\n",
    "Sources:\n",
    "1. [Official Google Guild to Storage](https://cloud.google.com/compute/docs/disks/add-persistent-disk) - Great walk through the process with explanations"
   ]
  },
  {
   "cell_type": "markdown",
   "metadata": {},
   "source": [
    "### Adding new Disk to Instance\n",
    "\n",
    "1. In the instance go to Edit-> Aditional Disk -> Add Item  and add the amount you want. Remember your DEVICE_ID (The name you gave the instance) \n",
    "<br>In the VM shell:\n",
    "2. Show the partitions. Your new disk will apear there:\n",
    "    - sudo lsblk  \n",
    "3. Delete and format the disk with mkfs command:\n",
    "    - sudo mkfs.ext4 -m 0 -F -E lazy_itable_init=0,lazy_journal_init=0,discard /dev/[DEVICE_ID_FROMLlsblk] \n",
    "  <br>Note - Since addition disk doesn't require space for OS we set -m 0 to use all available space\n",
    "4. Mount to disk to a location you would like:\n",
    "   - sudo mkdir -p /mnt/disks/[MNT_DIR] \n",
    "   - sudo mount -o discard,defaults /dev/[DEVICE_ID] /mnt/disks/[MNT_DIR]\n",
    "   - You will be able to see you partition running: df -h\n",
    "5. chmod\n",
    "- sudo chmod a+w /mnt/disks/[MNT_DIR]\n",
    "6. Add autmatic mount operation so that you do not need to do it everytime you start the machine. This is done via the fstab file configurtion. <br> In a natshell, /dev/fstab is a dedicated place for the OS to mount disks. <br>To add disk you need to list it in Fstab file configuration. The structure of the file is a following: [Device] [Mount Point] [File System Type] [Options] [Dump] [Pass].\n",
    "<br> There are two optinals to add it:\n",
    "    1. By hand:\n",
    "        1. Backup existing fstab file:   \n",
    "            - sudo cp /etc/fstab /etc/fstab.backup\n",
    "        2. Use blkid to filnd UUID of the persistent disk: \n",
    "            - sudo blkid /dev/[DEVICE_ID]\n",
    "        3. Open /etc/fstab and add your device to the list:\n",
    "        - UUID=[UUID_VALUE] /mnt/disks/[MNT_DIR] ext4 discard,defaults,[NOFAIL_OPTION] 0 2\n",
    "        <br> Where [UUID_VALUE] is the number that was printed and [NOFAIL_OPTION] should be set to nofail (Meaning what happes to the OS boot when it can't mount. \n",
    "    2. Via single command (Replace sdb with the name you gave the disk):\n",
    "        - echo UUID=`sudo blkid -s UUID -o value /dev/sdb` /mnt/disks/disk-1 ext4 discard,defaults,nofail 0 2 | sudo tee -a /etc/fstab\n",
    "\n",
    "Once you remove the disk, remove the mount line\n",
    "    "
   ]
  },
  {
   "cell_type": "markdown",
   "metadata": {},
   "source": [
    "### Resizing disk of Instance\n",
    "\n",
    "- Resize the disk size through Instance->Edit->Disk->Resize or by intialization instance from Snapshot but editting the size of the disk\n",
    "- Run:\n",
    "    - sudo lsblk \n",
    "        - To see all available disks \n",
    "        - Note that 'Mount on = /' means the root OS\n",
    "    - df -h #To see which disks were mounted. You can see which process \n",
    "        - Shows the accessible devices/paritions. You can see you the mount happen successfully\n",
    "- __If your disk has parition__ then you need to use growpart to resize the partiiton size:\n",
    "    - sudo growpart /dev/sda 1\n",
    "    - Shell Output: CHANGED: partition=1 start=2048 old: size=209713119 end=209715167 new: size=1048573919,end=1048575967\n",
    "    - Now see the change in: sudo lsblk\n",
    "- Now extend file system on the disk:\n",
    "    - If you had partition run:\n",
    "        - sudo resize2fs /dev/[DEVICE_ID][PARTITION_NUMBER]  #Example: sudo resize2fs /dev/sda1\n",
    "    - If you didn't have parition run:\n",
    "        - sudo resize2fs /dev/[DEVICE_ID]\n",
    "    - Run df -h to see the change"
   ]
  },
  {
   "cell_type": "markdown",
   "metadata": {},
   "source": [
    "## Buckets and Cloud Storage\n",
    "Comparing diffrent [Storage Options ](https://cloud.google.com/compute/docs/disks/).\n",
    "\n",
    "### Bucket Operators with gsutil\n",
    "[Source](https://cloud.google.com/storage/docs/quickstart-gsutil#create)\n",
    "- Create new bucket \n",
    "    - gsutil mb -l us-east1 gs://my-unique-bucket-name/\n",
    "- Transfer data:\n",
    "    - Copy files:\n",
    "        - gsutil cp Desktop/kitten.png gs://my-awesome-bucket\n",
    "    - Download file:\n",
    "        - gsutil cp gs://my-awesome-bucket/kitten.png Desktop/kitten2.png\n",
    "    - Creat folder and copy file to it:\n",
    "        - gsutil cp gs://my-awesome-bucket/kitten.png gs://my-awesome-bucket/just-a-folder/kitten3.png\n",
    "    - List objects in file on the bucket:\n",
    "        - gsutil ls gs://my-awesome-bucket\n",
    "- Permissions:\n",
    "    -  grant all users read permission for the object stored in your bucket:\n",
    "        - gsutil acl ch -u AllUsers:R gs://my-awesome-bucket/kitten.png\n",
    "    - Remove permission:\n",
    "        - gsutil acl ch -d AllUsers gs://my-awesome-bucket/kitten.png\n",
    "    - Give a specific email address permission to read and write objects in your bucket:\n",
    "        - gsutil iam ch user:jane@gmail.com:objectCreator,objectViewer gs://my-awesome-bucket\n",
    "- Deleteing:\n",
    "    - Delete object:\n",
    "        - gsutil rm gs://my-awesome-bucket/kitten.png\n",
    "     - Delete bucket:\n",
    "         - gsutil rm -r gs://my-awesome-bucket\n",
    "         \n",
    "### Mounting Bucket onto Instance\n",
    "The methdo to do this is by [Cloud Storage FUSE](https://cloud.google.com/storage/docs/gcs-fuse#using_feat_name) \n",
    "1. Create a bucket (Either through gsutil mb or through GUI\n",
    "- Note - Bucket GUI are accessible at Storage->Browser ([link](https://console.cloud.google.com/storage/browser?_ga=2.11938484.-1862925903.1532348966&_gac=1.51962843.1533671701.CjwKCAjwhqXbBRAREiwAucoo-88kZ0DUOmhycGWVghcjrRnoEm2KZ32uM6mNtcrBmoA8iwtRKvQEIBoCsGcQAvD_BwE&project=manuel-dl&folder&organizationId))\n",
    "2. Install [gcsfuse](https://github.com/GoogleCloudPlatform/gcsfuse/blob/master/docs/installing.md)\n",
    "   - You might need to add credentials. Check out this [source](https://cloud.google.com/docs/authentication/production#auth-cloud-explicit-python)\n",
    "3. mkdir /path/to/mount\n",
    "4. gcsfuse --implicit-dirs my-bucket /path/to/mount\n",
    "    - To see all the files in the directory run: gcsfuse __--implicit-dirs__ gaze_data_tzahi bucket \n",
    "    \n",
    "\n",
    "Umount:<br>\n",
    "fusermount -u /home/shared/local_folder/"
   ]
  },
  {
   "cell_type": "markdown",
   "metadata": {},
   "source": [
    "## Reusing the same storage\n",
    "\n",
    "### Reuse Disk\n",
    "Unfortunetly, there is no way of using the same disk for multiple instances. YOu can read about it in [disk flexibility](https://cloud.google.com/compute/docs/disks/#flexibility) or in this [thread](https://stackoverflow.com/questions/26910960/share-a-persistent-disk-between-google-compute-engine-vms/26914885). According to the thread, there\n",
    "\n",
    "You can however use the disk in a RO mode for multiple instance. [This guide](https://cloud.google.com/compute/docs/disks/add-persistent-disk#use_multi_instances) show how to attach a disk to an instance in RO moe:\n",
    "1. Detach the disk from any R/W instance\n",
    "2. Run attach command:\n",
    "    - gcloud compute instances attach-disk [INSTANCE_NAME] --disk [DISK_NAME] --mode ro\n",
    "3. Connect to the instance and __mount__ the disk\n",
    "\n",
    "### Reuse Bucket\n",
    "\n",
    "Bucket are the way to go with R/W storage connected to multiple disks. [Bucket](https://cloud.google.com/compute/docs/disks/gcs-buckets#mount_bucket) is what we explianed before. Assentially, you can just connect multiple instacnes to the same Bucket with no issues. It is just slower then disk"
   ]
  },
  {
   "cell_type": "code",
   "execution_count": null,
   "metadata": {},
   "outputs": [],
   "source": []
  }
 ],
 "metadata": {
  "kernelspec": {
   "display_name": "Python 3",
   "language": "python",
   "name": "python3"
  },
  "language_info": {
   "codemirror_mode": {
    "name": "ipython",
    "version": 3
   },
   "file_extension": ".py",
   "mimetype": "text/x-python",
   "name": "python",
   "nbconvert_exporter": "python",
   "pygments_lexer": "ipython3",
   "version": "3.5.2"
  }
 },
 "nbformat": 4,
 "nbformat_minor": 1
}
