{
 "cells": [
  {
   "cell_type": "code",
   "execution_count": 1,
   "metadata": {
    "collapsed": true
   },
   "outputs": [],
   "source": [
    "# Utilities for CUDA and Nvidia"
   ]
  },
  {
   "cell_type": "code",
   "execution_count": 2,
   "metadata": {},
   "outputs": [
    {
     "ename": "SyntaxError",
     "evalue": "invalid syntax (<ipython-input-2-9660a2133c49>, line 4)",
     "traceback": [
      "\u001b[0;36m  File \u001b[0;32m\"<ipython-input-2-9660a2133c49>\"\u001b[0;36m, line \u001b[0;32m4\u001b[0m\n\u001b[0;31m    sudo kill -9 $(nvidia-smi | sed -n 's/|\\s*[0-9]*\\s*\\([0-9]*\\)\\s*.*/\\1/p' | sort | uniq | sed '/^$/d')\u001b[0m\n\u001b[0m            ^\u001b[0m\n\u001b[0;31mSyntaxError\u001b[0m\u001b[0;31m:\u001b[0m invalid syntax\n"
     ],
     "output_type": "error"
    }
   ],
   "source": [
    "### Clear CUDA device\n",
    "\n",
    "#### Kill all processes in CUDA\n",
    "sudo kill -9 $(nvidia-smi | sed -n 's/|\\s*[0-9]*\\s*\\([0-9]*\\)\\s*.*/\\1/p' | sort | uniq | sed '/^$/d')\n",
    "# You can check out nvidia-smi to see that it is cleared\n",
    "Or:\n",
    "nvidia-smi |grep python |  cut -d\" \" -f10 | sudo  xargs kill -9\n",
    "\n",
    "####\n",
    "\n",
    "sudo fuser -v /dev/nvidia* # Check for jobs\n",
    "sudo kill -9 PID #Where PID is from the job list\n",
    "\n",
    "\n"
   ]
  },
  {
   "cell_type": "code",
   "execution_count": 3,
   "metadata": {},
   "outputs": [
    {
     "ename": "SyntaxError",
     "evalue": "invalid syntax (<ipython-input-3-d264c386bebe>, line 2)",
     "traceback": [
      "\u001b[0;36m  File \u001b[0;32m\"<ipython-input-3-d264c386bebe>\"\u001b[0;36m, line \u001b[0;32m2\u001b[0m\n\u001b[0;31m    A small experiement on the cloud, changing the batch size\u001b[0m\n\u001b[0m          ^\u001b[0m\n\u001b[0;31mSyntaxError\u001b[0m\u001b[0;31m:\u001b[0m invalid syntax\n"
     ],
     "output_type": "error"
    }
   ],
   "source": [
    "A nice pip install tool to see GPU performance: https://github.com/wookayin/gpustat\n",
    "##### Batch size analysis\n",
    "A small experiement on the cloud, changing the batch size \n",
    "\n",
    "batch_size/time/Normalized_time(time*1000/batch_size)\t\t\n",
    "1\t0.2\t    200\n",
    "2\t0.34\t170\n",
    "4\t0.57\t142.5\n",
    "8\t0.85\t106.25\n",
    "16\t1.8\t    112.5\n",
    "32\t2.5\t    78.125\n",
    "64\t4.5\t    70.3125\n",
    "256\t10\t    39.0625\n",
    "\n"
   ]
  }
 ],
 "metadata": {
  "kernelspec": {
   "display_name": "Python 3",
   "language": "python",
   "name": "python3"
  },
  "language_info": {
   "codemirror_mode": {
    "name": "ipython",
    "version": 3
   },
   "file_extension": ".py",
   "mimetype": "text/x-python",
   "name": "python",
   "nbconvert_exporter": "python",
   "pygments_lexer": "ipython3",
   "version": "3.5.2"
  }
 },
 "nbformat": 4,
 "nbformat_minor": 1
}
