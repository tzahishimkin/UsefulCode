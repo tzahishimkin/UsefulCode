{
 "cells": [
  {
   "cell_type": "code",
   "execution_count": null,
   "metadata": {
    "collapsed": true
   },
   "outputs": [],
   "source": [
    " \n",
    "\n",
    "\n",
    "flatten = lambda x: list(itertools.chain.from_iterable(x)) #Loop over a list \n",
    "train_filenames = flatten([glob.glob(os.path.join(f, \"*.tfrecords\")) if os.path.isdir(f) else [f] for f in args.train])\n",
    "\n",
    "\n",
    "#Use LMDB - Explain how to install and use in python:\n",
    "\n",
    "\n",
    "# TF save and load checkpoint:\n",
    "\n",
    "#\n"
   ]
  }
 ],
 "metadata": {
  "kernelspec": {
   "display_name": "Python 2",
   "language": "python",
   "name": "python2"
  },
  "language_info": {
   "codemirror_mode": {
    "name": "ipython",
    "version": 2
   },
   "file_extension": ".py",
   "mimetype": "text/x-python",
   "name": "python",
   "nbconvert_exporter": "python",
   "pygments_lexer": "ipython2",
   "version": "2.7.6"
  }
 },
 "nbformat": 4,
 "nbformat_minor": 0
}
