{
 "cells": [
  {
   "cell_type": "markdown",
   "metadata": {},
   "source": [
    "## How to create multi-threaded program\n",
    "\n",
    "1. we split the data into amount of workers, each works is a process \n",
    "2. Function 'work_func' gets parts of data and compute \n",
    "3. threading.Thread function is the one that takes arguments and returns some result\n",
    "4. To start the process you need to run t.start. You can append the threads and join them at the end"
   ]
  },
  {
   "cell_type": "code",
   "execution_count": null,
   "metadata": {},
   "outputs": [
    {
     "ename": "NameError",
     "evalue": "name 'subjects' is not defined",
     "traceback": [
      "\u001b[0;31m---------------------------------------------------------------------------\u001b[0m",
      "\u001b[0;31mNameError\u001b[0m                                 Traceback (most recent call last)",
      "\u001b[0;32m<ipython-input-5-b4af488e8ff9>\u001b[0m in \u001b[0;36m<module>\u001b[0;34m()\u001b[0m\n\u001b[1;32m     25\u001b[0m     t = threading.Thread(target=worker_func,\n\u001b[1;32m     26\u001b[0m                          \u001b[0mname\u001b[0m\u001b[0;34m=\u001b[0m\u001b[0;34m'Worker {} [{}:{}]'\u001b[0m\u001b[0;34m.\u001b[0m\u001b[0mformat\u001b[0m\u001b[0;34m(\u001b[0m\u001b[0mi\u001b[0m\u001b[0;34m,\u001b[0m \u001b[0mstart_batch\u001b[0m\u001b[0;34m,\u001b[0m \u001b[0mend_batch\u001b[0m\u001b[0;34m)\u001b[0m\u001b[0;34m,\u001b[0m\u001b[0;34m\u001b[0m\u001b[0m\n\u001b[0;32m---> 27\u001b[0;31m                          args=([subjects[start_batch:end_batch], total_frames]))\n\u001b[0m\u001b[1;32m     28\u001b[0m     \u001b[0mthreads\u001b[0m\u001b[0;34m.\u001b[0m\u001b[0mappend\u001b[0m\u001b[0;34m(\u001b[0m\u001b[0mt\u001b[0m\u001b[0;34m)\u001b[0m\u001b[0;34m\u001b[0m\u001b[0m\n\u001b[1;32m     29\u001b[0m     \u001b[0mt\u001b[0m\u001b[0;34m.\u001b[0m\u001b[0mstart\u001b[0m\u001b[0;34m(\u001b[0m\u001b[0;34m)\u001b[0m\u001b[0;34m\u001b[0m\u001b[0m\n",
      "\u001b[0;31mNameError\u001b[0m: name 'subjects' is not defined"
     ],
     "output_type": "error"
    }
   ],
   "source": [
    "import threading\n",
    "\n",
    "\n",
    "def worker_func(subjects, total_frames):\n",
    "    worker = Worker()\n",
    "    for subject_path in tqdm(subjects, total=len(subjects), desc=threading.current_thread().name):\n",
    "        video_id = os.path.basename(subject_path)\n",
    "        total_frames[video_id] = worker.process_subject(subject_path)\n",
    "\n",
    "num_workers = 4\n",
    "num_subjects = 16\n",
    "\n",
    "threads = []\n",
    "batch_size = int(num_subjects / float(num_workers))\n",
    "\n",
    "for i in range(num_workers):\n",
    "    start_batch = i * batch_size\n",
    "    if i == num_workers - 1:\n",
    "        end_batch = num_subjects  # last batch\n",
    "    else:\n",
    "        end_batch = (i + 1) * batch_size\n",
    "    t = threading.Thread(target=worker_func,\n",
    "                         name='Worker {} [{}:{}]'.format(i, start_batch, end_batch),\n",
    "                         args=([subjects[start_batch:end_batch], total_frames]))\n",
    "    threads.append(t)\n",
    "    t.start()\n",
    "\n",
    "for t in threads:\n",
    "    t.join()"
   ]
  },
  {
   "cell_type": "code",
   "execution_count": null,
   "metadata": {},
   "outputs": [],
   "source": []
  }
 ],
 "metadata": {
  "kernelspec": {
   "display_name": "Python 3",
   "language": "python",
   "name": "python3"
  },
  "language_info": {
   "codemirror_mode": {
    "name": "ipython",
    "version": 3
   },
   "file_extension": ".py",
   "mimetype": "text/x-python",
   "name": "python",
   "nbconvert_exporter": "python",
   "pygments_lexer": "ipython3",
   "version": "3.5.2"
  }
 },
 "nbformat": 4,
 "nbformat_minor": 1
}
