{
 "cells": [
  {
   "cell_type": "markdown",
   "metadata": {},
   "source": [
    "# TensorFlow Notebook\n",
    "This notebook is meant to have a walkthrough of TF functions and utils\n",
    "\n",
    "#### Resources:\n",
    "\n",
    "1. [First stop, TF examples](https://github.com/aymericdamien/TensorFlow-Examples) - A fantastic resource containing many notebooks and examples which you can learn from basically endlessly. \n",
    "2. [Advanced CNN](https://www.tensorflow.org/tutorials/images/deep_cnn) - A nice and short followup covering learning rate scheduling, multi-GPU ,moving average, visualization. And it is short! "
   ]
  },
  {
   "cell_type": "markdown",
   "metadata": {},
   "source": [
    "### Get the CPU/GPU resources on the computer:"
   ]
  },
  {
   "cell_type": "code",
   "execution_count": 5,
   "metadata": {},
   "outputs": [],
   "source": [
    "from tensorflow.python.client import device_lib\n",
    "devices = device_lib.list_local_devices()"
   ]
  },
  {
   "cell_type": "markdown",
   "metadata": {},
   "source": [
    "### Check Out TF-Record values:"
   ]
  },
  {
   "cell_type": "code",
   "execution_count": null,
   "metadata": {},
   "outputs": [],
   "source": [
    "file = 'Path_to.tfrecords'\n",
    "#This will run on all the records in the file:\n",
    "for example in tf.python_io.tf_record_iterator(file):\n",
    "    result = tf.train.Example.FromString(example)"
   ]
  },
  {
   "cell_type": "markdown",
   "metadata": {},
   "source": [
    "# Performance:\n",
    "1. Print the amount of devices - GPU & CPU that the TF is conneted to. [source](https://stackoverflow.com/questions/44925674/does-tensorflow-automatically-detect-gpu-or-do-i-have-to-specify-it-manually)\n",
    "2. Show what is running where (data/GPU or CPU) in the simulation. [source](https://stackoverflow.com/questions/44925674/does-tensorflow-automatically-detect-gpu-or-do-i-have-to-specify-it-manually)\n",
    "\n",
    "### Other resources:\n",
    "1. Check out GPU usage with [gpustat tool](https://github.com/wookayin/gpustat)\n",
    "2. For farther reading refer to Google TF performace guide. [link](https://www.tensorflow.org/performance/performance_guide)"
   ]
  },
  {
   "cell_type": "code",
   "execution_count": 5,
   "metadata": {},
   "outputs": [],
   "source": [
    "import tensorflow as tf\n",
    "#1\n",
    "from tensorflow.python.client import device_lib\n",
    "#print(device_lib.list_local_devices())\n",
    "\n",
    "#2\n",
    "sess = tf.Session(config=tf.ConfigProto(log_device_placement=True))\n"
   ]
  },
  {
   "cell_type": "markdown",
   "metadata": {},
   "source": [
    "### Multi GPU\n",
    "\n",
    "1. See [test example](https://gist.github.com/j-min/69aae99be6f6acfadf2073817c2f61b0) or [cifar example](https://github.com/tensorflow/models/blob/master/tutorials/image/cifar10/cifar10_multi_gpu_train.py) \n",
    "or a nice [Mnist example](https://github.com/normanheckscher/mnist-multi-gpu)\n",
    "2. You can check out [Google Guide](https://www.tensorflow.org/guide/using_gpu#using_multiple_gpus)"
   ]
  },
  {
   "cell_type": "markdown",
   "metadata": {},
   "source": [
    "## Inspect checkpoint. \n",
    "\n",
    "[Tool for checkpoint inspection](https://github.com/tensorflow/tensorflow/blob/master/tensorflow/python/tools/inspect_checkpoint.py)"
   ]
  },
  {
   "cell_type": "code",
   "execution_count": null,
   "metadata": {},
   "outputs": [],
   "source": []
  }
 ],
 "metadata": {
  "kernelspec": {
   "display_name": "Python 3",
   "language": "python",
   "name": "python3"
  },
  "language_info": {
   "codemirror_mode": {
    "name": "ipython",
    "version": 3
   },
   "file_extension": ".py",
   "mimetype": "text/x-python",
   "name": "python",
   "nbconvert_exporter": "python",
   "pygments_lexer": "ipython3",
   "version": "3.5.2"
  }
 },
 "nbformat": 4,
 "nbformat_minor": 2
}
